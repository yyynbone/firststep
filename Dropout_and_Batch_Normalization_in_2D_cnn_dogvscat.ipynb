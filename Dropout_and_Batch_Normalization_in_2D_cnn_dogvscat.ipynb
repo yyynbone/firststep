{
  "nbformat": 4,
  "nbformat_minor": 0,
  "metadata": {
    "colab": {
      "name": "Dropout and Batch Normalization in 2D cnn dogvscat.ipynb",
      "provenance": [],
      "authorship_tag": "ABX9TyOdwdtUYlWYOrerCn8XZ5B2",
      "include_colab_link": true
    },
    "kernelspec": {
      "name": "python3",
      "display_name": "Python 3"
    },
    "accelerator": "TPU"
  },
  "cells": [
    {
      "cell_type": "markdown",
      "metadata": {
        "id": "view-in-github",
        "colab_type": "text"
      },
      "source": [
        "<a href=\"https://colab.research.google.com/github/yyynbone/firststep/blob/master/Dropout_and_Batch_Normalization_in_2D_cnn_dogvscat.ipynb\" target=\"_parent\"><img src=\"https://colab.research.google.com/assets/colab-badge.svg\" alt=\"Open In Colab\"/></a>"
      ]
    },
    {
      "cell_type": "markdown",
      "metadata": {
        "id": "LeDpDloIlXus",
        "colab_type": "text"
      },
      "source": [
        "## sign in kaggle, and download data "
      ]
    },
    {
      "cell_type": "code",
      "metadata": {
        "id": "kT5zQgCwlQ8C",
        "colab_type": "code",
        "colab": {}
      },
      "source": [
        "!pip install -q kaggle"
      ],
      "execution_count": 0,
      "outputs": []
    },
    {
      "cell_type": "code",
      "metadata": {
        "id": "rqIk7bv7l8l1",
        "colab_type": "code",
        "colab": {}
      },
      "source": [
        "!mkdir ~/.kaggle"
      ],
      "execution_count": 0,
      "outputs": []
    },
    {
      "cell_type": "code",
      "metadata": {
        "id": "KMZyYjufmhE2",
        "colab_type": "code",
        "colab": {}
      },
      "source": [
        "!cp kaggle.json ~/.kaggle/"
      ],
      "execution_count": 0,
      "outputs": []
    },
    {
      "cell_type": "code",
      "metadata": {
        "id": "4xIXSIhNomdl",
        "colab_type": "code",
        "colab": {}
      },
      "source": [
        "!chmod 600 ~/.kaggle/kaggle.json"
      ],
      "execution_count": 0,
      "outputs": []
    },
    {
      "cell_type": "code",
      "metadata": {
        "id": "oqDhrWdTpGgI",
        "colab_type": "code",
        "outputId": "2248b037-b3f1-41ae-d99e-d6f028ed4f35",
        "colab": {
          "base_uri": "https://localhost:8080/",
          "height": 67
        }
      },
      "source": [
        "!kaggle datasets download -d biaiscience/dogs-vs-cats"
      ],
      "execution_count": 0,
      "outputs": [
        {
          "output_type": "stream",
          "text": [
            "Downloading dogs-vs-cats.zip to /content\n",
            "100% 817M/817M [00:13<00:00, 58.5MB/s]\n",
            "\n"
          ],
          "name": "stdout"
        }
      ]
    },
    {
      "cell_type": "code",
      "metadata": {
        "id": "O_OYO3iBrvXs",
        "colab_type": "code",
        "outputId": "31ab660d-a9f3-4277-a229-a4310a724c56",
        "colab": {
          "base_uri": "https://localhost:8080/",
          "height": 423
        }
      },
      "source": [
        "!kaggle datasets list"
      ],
      "execution_count": 0,
      "outputs": [
        {
          "output_type": "stream",
          "text": [
            "Warning: Looks like you're using an outdated API Version, please consider updating (server 1.5.6 / client 1.5.4)\n",
            "ref                                                            title                                                size  lastUpdated          downloadCount  \n",
            "-------------------------------------------------------------  --------------------------------------------------  -----  -------------------  -------------  \n",
            "allen-institute-for-ai/CORD-19-research-challenge              COVID-19 Open Research Dataset Challenge (CORD-19)  729MB  2020-03-27 23:46:53          40595  \n",
            "ryanxjhan/cbc-news-coronavirus-articles-march-26               CBC News Coronavirus/COVID-19 Articles (NLP)          6MB  2020-03-27 23:23:07            190  \n",
            "vitaliymalcev/russian-passenger-air-service-20072020           Russian passenger air service 2007-2020             239KB  2020-04-02 22:27:03            111  \n",
            "danevans/world-bank-wdi-212-health-systems                     World Bank WDI 2.12 - Health Systems                  6KB  2020-03-29 19:00:14            252  \n",
            "sobhanmoosavi/us-accidents                                     US Accidents (3.0 million records)                  199MB  2020-01-17 04:45:09          12098  \n",
            "fireballbyedimyrnmom/us-counties-covid-19-dataset              US counties COVID 19 dataset                        186KB  2020-04-02 11:18:40            459  \n",
            "eswarchandt/amazon-music-reviews                               Amazon Musicual Instruments Reviews                   5MB  2020-03-29 02:59:52             99  \n",
            "trtmio/project-coviewed-subreddit-coronavirus-news-corpus      Project COVIEWED Coronavirus News Corpus              8MB  2020-03-31 11:32:45             17  \n",
            "monogenea/birdsongs-from-europe                                Bird songs from Europe (xeno-canto)                   7GB  2020-03-23 15:35:20             24  \n",
            "dheerajmpai/hospitals-and-beds-in-india                        Hospitals and beds in India (Statewise)               5KB  2020-03-27 14:05:50            152  \n",
            "lakritidis/identifying-influential-bloggers-techcrunch         Identifying Influential Bloggers: Techcrunch        112MB  2020-03-30 19:22:09             26  \n",
            "bappekim/air-pollution-in-seoul                                Air Pollution in Seoul                               20MB  2020-03-29 07:42:23            125  \n",
            "roche-data-science-coalition/uncover                           UNCOVER COVID-19 Challenge                          154MB  2020-04-01 15:17:39            307  \n",
            "sudalairajkumar/novel-corona-virus-2019-dataset                Novel Corona Virus 2019 Dataset                     661KB  2020-04-03 05:56:48         102957  \n",
            "kimjihoo/coronavirusdataset                                    Data Science for COVID-19 (DS4C)                      3MB  2020-03-30 19:54:12          24410  \n",
            "unanimad/dataisbeautiful                                       Reddit - Data is Beautiful                           11MB  2020-04-01 12:10:09           1444  \n",
            "jessemostipak/hotel-booking-demand                             Hotel booking demand                                  1MB  2020-02-13 01:27:20          12229  \n",
            "rubenssjr/brasilian-houses-to-rent                             brazilian_houses_to_rent                            282KB  2020-03-25 22:51:17           1539  \n",
            "clmentbisaillon/fake-and-real-news-dataset                     Fake and real news dataset                           41MB  2020-03-26 18:51:15            576  \n",
            "paultimothymooney/covid19-containment-and-mitigation-measures  COVID-19 containment and mitigation measures        216KB  2020-04-02 13:53:23           1206  \n"
          ],
          "name": "stdout"
        }
      ]
    },
    {
      "cell_type": "code",
      "metadata": {
        "id": "D9u_qbt-sR0O",
        "colab_type": "code",
        "outputId": "eca2a52e-8a48-4294-e9f1-69b6b8ae3dc6",
        "colab": {
          "base_uri": "https://localhost:8080/",
          "height": 70
        }
      },
      "source": [
        "!kaggle competitions download -c covid19-global-forecasting-week-3"
      ],
      "execution_count": 0,
      "outputs": [
        {
          "output_type": "stream",
          "text": [
            "Warning: Looks like you're using an outdated API Version, please consider updating (server 1.5.6 / client 1.5.4)\n",
            "403 - Forbidden\n"
          ],
          "name": "stdout"
        }
      ]
    },
    {
      "cell_type": "code",
      "metadata": {
        "id": "56Mei5vovDPS",
        "colab_type": "code",
        "outputId": "51129173-a197-4baf-f935-91996b96fa96",
        "colab": {
          "base_uri": "https://localhost:8080/",
          "height": 34
        }
      },
      "source": [
        "!kaggle --version"
      ],
      "execution_count": 0,
      "outputs": [
        {
          "output_type": "stream",
          "text": [
            "Kaggle API 1.5.4\n"
          ],
          "name": "stdout"
        }
      ]
    },
    {
      "cell_type": "code",
      "metadata": {
        "id": "tJDgtXrXvPBe",
        "colab_type": "code",
        "outputId": "8461b332-f2c1-42b8-f14a-db17b431be99",
        "colab": {
          "base_uri": "https://localhost:8080/",
          "height": 50
        }
      },
      "source": [
        "!pip install -q kaggle=1.5.6"
      ],
      "execution_count": 0,
      "outputs": [
        {
          "output_type": "stream",
          "text": [
            "\u001b[31mERROR: Invalid requirement: 'kaggle=1.5.6'\n",
            "Hint: = is not a valid operator. Did you mean == ?\u001b[0m\n"
          ],
          "name": "stdout"
        }
      ]
    },
    {
      "cell_type": "code",
      "metadata": {
        "id": "HOU1GRwR1DaF",
        "colab_type": "code",
        "outputId": "ade77368-53a0-4666-a6a9-2ee7bc429037",
        "colab": {
          "base_uri": "https://localhost:8080/",
          "height": 134
        }
      },
      "source": [
        "!pip uninstall kaggle"
      ],
      "execution_count": 0,
      "outputs": [
        {
          "output_type": "stream",
          "text": [
            "Uninstalling kaggle-1.5.6:\n",
            "  Would remove:\n",
            "    /usr/local/bin/kaggle\n",
            "    /usr/local/lib/python3.6/dist-packages/kaggle-1.5.6.dist-info/*\n",
            "    /usr/local/lib/python3.6/dist-packages/kaggle/*\n",
            "Proceed (y/n)? y\n",
            "  Successfully uninstalled kaggle-1.5.6\n"
          ],
          "name": "stdout"
        }
      ]
    },
    {
      "cell_type": "code",
      "metadata": {
        "id": "LlkOz_uC1DdE",
        "colab_type": "code",
        "outputId": "7bee31cc-17c3-4f9f-c817-124e946b7b1c",
        "colab": {
          "base_uri": "https://localhost:8080/",
          "height": 171
        }
      },
      "source": [
        "!pip install --upgrade pip"
      ],
      "execution_count": 0,
      "outputs": [
        {
          "output_type": "stream",
          "text": [
            "Collecting pip\n",
            "\u001b[?25l  Downloading https://files.pythonhosted.org/packages/54/0c/d01aa759fdc501a58f431eb594a17495f15b88da142ce14b5845662c13f3/pip-20.0.2-py2.py3-none-any.whl (1.4MB)\n",
            "\r\u001b[K     |▎                               | 10kB 17.5MB/s eta 0:00:01\r\u001b[K     |▌                               | 20kB 836kB/s eta 0:00:02\r\u001b[K     |▊                               | 30kB 1.2MB/s eta 0:00:02\r\u001b[K     |█                               | 40kB 1.6MB/s eta 0:00:01\r\u001b[K     |█▏                              | 51kB 1.0MB/s eta 0:00:02\r\u001b[K     |█▍                              | 61kB 1.2MB/s eta 0:00:02\r\u001b[K     |█▋                              | 71kB 1.4MB/s eta 0:00:01\r\u001b[K     |█▉                              | 81kB 1.6MB/s eta 0:00:01\r\u001b[K     |██                              | 92kB 1.8MB/s eta 0:00:01\r\u001b[K     |██▎                             | 102kB 1.4MB/s eta 0:00:01\r\u001b[K     |██▌                             | 112kB 1.4MB/s eta 0:00:01\r\u001b[K     |██▊                             | 122kB 1.4MB/s eta 0:00:01\r\u001b[K     |███                             | 133kB 1.4MB/s eta 0:00:01\r\u001b[K     |███▏                            | 143kB 1.4MB/s eta 0:00:01\r\u001b[K     |███▍                            | 153kB 1.4MB/s eta 0:00:01\r\u001b[K     |███▋                            | 163kB 1.4MB/s eta 0:00:01\r\u001b[K     |███▉                            | 174kB 1.4MB/s eta 0:00:01\r\u001b[K     |████                            | 184kB 1.4MB/s eta 0:00:01\r\u001b[K     |████▎                           | 194kB 1.4MB/s eta 0:00:01\r\u001b[K     |████▌                           | 204kB 1.4MB/s eta 0:00:01\r\u001b[K     |████▊                           | 215kB 1.4MB/s eta 0:00:01\r\u001b[K     |█████                           | 225kB 1.4MB/s eta 0:00:01\r\u001b[K     |█████▎                          | 235kB 1.4MB/s eta 0:00:01\r\u001b[K     |█████▌                          | 245kB 1.4MB/s eta 0:00:01\r\u001b[K     |█████▊                          | 256kB 1.4MB/s eta 0:00:01\r\u001b[K     |██████                          | 266kB 1.4MB/s eta 0:00:01\r\u001b[K     |██████▏                         | 276kB 1.4MB/s eta 0:00:01\r\u001b[K     |██████▍                         | 286kB 1.4MB/s eta 0:00:01\r\u001b[K     |██████▋                         | 296kB 1.4MB/s eta 0:00:01\r\u001b[K     |██████▉                         | 307kB 1.4MB/s eta 0:00:01\r\u001b[K     |███████                         | 317kB 1.4MB/s eta 0:00:01\r\u001b[K     |███████▎                        | 327kB 1.4MB/s eta 0:00:01\r\u001b[K     |███████▌                        | 337kB 1.4MB/s eta 0:00:01\r\u001b[K     |███████▊                        | 348kB 1.4MB/s eta 0:00:01\r\u001b[K     |████████                        | 358kB 1.4MB/s eta 0:00:01\r\u001b[K     |████████▏                       | 368kB 1.4MB/s eta 0:00:01\r\u001b[K     |████████▍                       | 378kB 1.4MB/s eta 0:00:01\r\u001b[K     |████████▋                       | 389kB 1.4MB/s eta 0:00:01\r\u001b[K     |████████▉                       | 399kB 1.4MB/s eta 0:00:01\r\u001b[K     |█████████                       | 409kB 1.4MB/s eta 0:00:01\r\u001b[K     |█████████▎                      | 419kB 1.4MB/s eta 0:00:01\r\u001b[K     |█████████▌                      | 430kB 1.4MB/s eta 0:00:01\r\u001b[K     |█████████▉                      | 440kB 1.4MB/s eta 0:00:01\r\u001b[K     |██████████                      | 450kB 1.4MB/s eta 0:00:01\r\u001b[K     |██████████▎                     | 460kB 1.4MB/s eta 0:00:01\r\u001b[K     |██████████▌                     | 471kB 1.4MB/s eta 0:00:01\r\u001b[K     |██████████▊                     | 481kB 1.4MB/s eta 0:00:01\r\u001b[K     |███████████                     | 491kB 1.4MB/s eta 0:00:01\r\u001b[K     |███████████▏                    | 501kB 1.4MB/s eta 0:00:01\r\u001b[K     |███████████▍                    | 512kB 1.4MB/s eta 0:00:01\r\u001b[K     |███████████▋                    | 522kB 1.4MB/s eta 0:00:01\r\u001b[K     |███████████▉                    | 532kB 1.4MB/s eta 0:00:01\r\u001b[K     |████████████                    | 542kB 1.4MB/s eta 0:00:01\r\u001b[K     |████████████▎                   | 552kB 1.4MB/s eta 0:00:01\r\u001b[K     |████████████▌                   | 563kB 1.4MB/s eta 0:00:01\r\u001b[K     |████████████▊                   | 573kB 1.4MB/s eta 0:00:01\r\u001b[K     |█████████████                   | 583kB 1.4MB/s eta 0:00:01\r\u001b[K     |█████████████▏                  | 593kB 1.4MB/s eta 0:00:01\r\u001b[K     |█████████████▍                  | 604kB 1.4MB/s eta 0:00:01\r\u001b[K     |█████████████▋                  | 614kB 1.4MB/s eta 0:00:01\r\u001b[K     |█████████████▉                  | 624kB 1.4MB/s eta 0:00:01\r\u001b[K     |██████████████                  | 634kB 1.4MB/s eta 0:00:01\r\u001b[K     |██████████████▎                 | 645kB 1.4MB/s eta 0:00:01\r\u001b[K     |██████████████▌                 | 655kB 1.4MB/s eta 0:00:01\r\u001b[K     |██████████████▉                 | 665kB 1.4MB/s eta 0:00:01\r\u001b[K     |███████████████                 | 675kB 1.4MB/s eta 0:00:01\r\u001b[K     |███████████████▎                | 686kB 1.4MB/s eta 0:00:01\r\u001b[K     |███████████████▌                | 696kB 1.4MB/s eta 0:00:01\r\u001b[K     |███████████████▊                | 706kB 1.4MB/s eta 0:00:01\r\u001b[K     |████████████████                | 716kB 1.4MB/s eta 0:00:01\r\u001b[K     |████████████████▏               | 727kB 1.4MB/s eta 0:00:01\r\u001b[K     |████████████████▍               | 737kB 1.4MB/s eta 0:00:01\r\u001b[K     |████████████████▋               | 747kB 1.4MB/s eta 0:00:01\r\u001b[K     |████████████████▉               | 757kB 1.4MB/s eta 0:00:01\r\u001b[K     |█████████████████               | 768kB 1.4MB/s eta 0:00:01\r\u001b[K     |█████████████████▎              | 778kB 1.4MB/s eta 0:00:01\r\u001b[K     |█████████████████▌              | 788kB 1.4MB/s eta 0:00:01\r\u001b[K     |█████████████████▊              | 798kB 1.4MB/s eta 0:00:01\r\u001b[K     |██████████████████              | 808kB 1.4MB/s eta 0:00:01\r\u001b[K     |██████████████████▏             | 819kB 1.4MB/s eta 0:00:01\r\u001b[K     |██████████████████▍             | 829kB 1.4MB/s eta 0:00:01\r\u001b[K     |██████████████████▋             | 839kB 1.4MB/s eta 0:00:01\r\u001b[K     |██████████████████▉             | 849kB 1.4MB/s eta 0:00:01\r\u001b[K     |███████████████████             | 860kB 1.4MB/s eta 0:00:01\r\u001b[K     |███████████████████▎            | 870kB 1.4MB/s eta 0:00:01\r\u001b[K     |███████████████████▋            | 880kB 1.4MB/s eta 0:00:01\r\u001b[K     |███████████████████▉            | 890kB 1.4MB/s eta 0:00:01\r\u001b[K     |████████████████████            | 901kB 1.4MB/s eta 0:00:01\r\u001b[K     |████████████████████▎           | 911kB 1.4MB/s eta 0:00:01\r\u001b[K     |████████████████████▌           | 921kB 1.4MB/s eta 0:00:01\r\u001b[K     |████████████████████▊           | 931kB 1.4MB/s eta 0:00:01\r\u001b[K     |█████████████████████           | 942kB 1.4MB/s eta 0:00:01\r\u001b[K     |█████████████████████▏          | 952kB 1.4MB/s eta 0:00:01\r\u001b[K     |█████████████████████▍          | 962kB 1.4MB/s eta 0:00:01\r\u001b[K     |█████████████████████▋          | 972kB 1.4MB/s eta 0:00:01\r\u001b[K     |█████████████████████▉          | 983kB 1.4MB/s eta 0:00:01\r\u001b[K     |██████████████████████          | 993kB 1.4MB/s eta 0:00:01\r\u001b[K     |██████████████████████▎         | 1.0MB 1.4MB/s eta 0:00:01\r\u001b[K     |██████████████████████▌         | 1.0MB 1.4MB/s eta 0:00:01\r\u001b[K     |██████████████████████▊         | 1.0MB 1.4MB/s eta 0:00:01\r\u001b[K     |███████████████████████         | 1.0MB 1.4MB/s eta 0:00:01\r\u001b[K     |███████████████████████▏        | 1.0MB 1.4MB/s eta 0:00:01\r\u001b[K     |███████████████████████▍        | 1.1MB 1.4MB/s eta 0:00:01\r\u001b[K     |███████████████████████▋        | 1.1MB 1.4MB/s eta 0:00:01\r\u001b[K     |███████████████████████▉        | 1.1MB 1.4MB/s eta 0:00:01\r\u001b[K     |████████████████████████        | 1.1MB 1.4MB/s eta 0:00:01\r\u001b[K     |████████████████████████▎       | 1.1MB 1.4MB/s eta 0:00:01\r\u001b[K     |████████████████████████▋       | 1.1MB 1.4MB/s eta 0:00:01\r\u001b[K     |████████████████████████▉       | 1.1MB 1.4MB/s eta 0:00:01\r\u001b[K     |█████████████████████████       | 1.1MB 1.4MB/s eta 0:00:01\r\u001b[K     |█████████████████████████▎      | 1.1MB 1.4MB/s eta 0:00:01\r\u001b[K     |█████████████████████████▌      | 1.1MB 1.4MB/s eta 0:00:01\r\u001b[K     |█████████████████████████▊      | 1.2MB 1.4MB/s eta 0:00:01\r\u001b[K     |██████████████████████████      | 1.2MB 1.4MB/s eta 0:00:01\r\u001b[K     |██████████████████████████▏     | 1.2MB 1.4MB/s eta 0:00:01\r\u001b[K     |██████████████████████████▍     | 1.2MB 1.4MB/s eta 0:00:01\r\u001b[K     |██████████████████████████▋     | 1.2MB 1.4MB/s eta 0:00:01\r\u001b[K     |██████████████████████████▉     | 1.2MB 1.4MB/s eta 0:00:01\r\u001b[K     |███████████████████████████     | 1.2MB 1.4MB/s eta 0:00:01\r\u001b[K     |███████████████████████████▎    | 1.2MB 1.4MB/s eta 0:00:01\r\u001b[K     |███████████████████████████▌    | 1.2MB 1.4MB/s eta 0:00:01\r\u001b[K     |███████████████████████████▊    | 1.2MB 1.4MB/s eta 0:00:01\r\u001b[K     |████████████████████████████    | 1.3MB 1.4MB/s eta 0:00:01\r\u001b[K     |████████████████████████████▏   | 1.3MB 1.4MB/s eta 0:00:01\r\u001b[K     |████████████████████████████▍   | 1.3MB 1.4MB/s eta 0:00:01\r\u001b[K     |████████████████████████████▋   | 1.3MB 1.4MB/s eta 0:00:01\r\u001b[K     |████████████████████████████▉   | 1.3MB 1.4MB/s eta 0:00:01\r\u001b[K     |█████████████████████████████   | 1.3MB 1.4MB/s eta 0:00:01\r\u001b[K     |█████████████████████████████▍  | 1.3MB 1.4MB/s eta 0:00:01\r\u001b[K     |█████████████████████████████▋  | 1.3MB 1.4MB/s eta 0:00:01\r\u001b[K     |█████████████████████████████▉  | 1.3MB 1.4MB/s eta 0:00:01\r\u001b[K     |██████████████████████████████  | 1.4MB 1.4MB/s eta 0:00:01\r\u001b[K     |██████████████████████████████▎ | 1.4MB 1.4MB/s eta 0:00:01\r\u001b[K     |██████████████████████████████▌ | 1.4MB 1.4MB/s eta 0:00:01\r\u001b[K     |██████████████████████████████▊ | 1.4MB 1.4MB/s eta 0:00:01\r\u001b[K     |███████████████████████████████ | 1.4MB 1.4MB/s eta 0:00:01\r\u001b[K     |███████████████████████████████▏| 1.4MB 1.4MB/s eta 0:00:01\r\u001b[K     |███████████████████████████████▍| 1.4MB 1.4MB/s eta 0:00:01\r\u001b[K     |███████████████████████████████▋| 1.4MB 1.4MB/s eta 0:00:01\r\u001b[K     |███████████████████████████████▉| 1.4MB 1.4MB/s eta 0:00:01\r\u001b[K     |████████████████████████████████| 1.4MB 1.4MB/s \n",
            "\u001b[?25hInstalling collected packages: pip\n",
            "  Found existing installation: pip 19.3.1\n",
            "    Uninstalling pip-19.3.1:\n",
            "      Successfully uninstalled pip-19.3.1\n",
            "Successfully installed pip-20.0.2\n"
          ],
          "name": "stdout"
        }
      ]
    },
    {
      "cell_type": "code",
      "metadata": {
        "id": "ExC-e1ue1Df0",
        "colab_type": "code",
        "outputId": "8643cb6a-7d72-4d4e-f19c-d1cd925bbcb6",
        "colab": {
          "base_uri": "https://localhost:8080/",
          "height": 353
        }
      },
      "source": [
        "!pip install kaggle==1.5.6"
      ],
      "execution_count": 0,
      "outputs": [
        {
          "output_type": "stream",
          "text": [
            "Collecting kaggle==1.5.6\n",
            "  Downloading kaggle-1.5.6.tar.gz (58 kB)\n",
            "\u001b[?25l\r\u001b[K     |█████▋                          | 10 kB 30.6 MB/s eta 0:00:01\r\u001b[K     |███████████▎                    | 20 kB 844 kB/s eta 0:00:01\r\u001b[K     |█████████████████               | 30 kB 1.2 MB/s eta 0:00:01\r\u001b[K     |██████████████████████▌         | 40 kB 1.3 MB/s eta 0:00:01\r\u001b[K     |████████████████████████████▏   | 51 kB 986 kB/s eta 0:00:01\r\u001b[K     |████████████████████████████████| 58 kB 924 kB/s \n",
            "\u001b[?25hRequirement already satisfied: urllib3<1.25,>=1.21.1 in /usr/local/lib/python3.6/dist-packages (from kaggle==1.5.6) (1.24.3)\n",
            "Requirement already satisfied: six>=1.10 in /usr/local/lib/python3.6/dist-packages (from kaggle==1.5.6) (1.12.0)\n",
            "Requirement already satisfied: certifi in /usr/local/lib/python3.6/dist-packages (from kaggle==1.5.6) (2019.11.28)\n",
            "Requirement already satisfied: python-dateutil in /usr/local/lib/python3.6/dist-packages (from kaggle==1.5.6) (2.8.1)\n",
            "Requirement already satisfied: requests in /usr/local/lib/python3.6/dist-packages (from kaggle==1.5.6) (2.21.0)\n",
            "Requirement already satisfied: tqdm in /usr/local/lib/python3.6/dist-packages (from kaggle==1.5.6) (4.38.0)\n",
            "Requirement already satisfied: python-slugify in /usr/local/lib/python3.6/dist-packages (from kaggle==1.5.6) (4.0.0)\n",
            "Requirement already satisfied: chardet<3.1.0,>=3.0.2 in /usr/local/lib/python3.6/dist-packages (from requests->kaggle==1.5.6) (3.0.4)\n",
            "Requirement already satisfied: idna<2.9,>=2.5 in /usr/local/lib/python3.6/dist-packages (from requests->kaggle==1.5.6) (2.8)\n",
            "Requirement already satisfied: text-unidecode>=1.3 in /usr/local/lib/python3.6/dist-packages (from python-slugify->kaggle==1.5.6) (1.3)\n",
            "Building wheels for collected packages: kaggle\n",
            "  Building wheel for kaggle (setup.py) ... \u001b[?25l\u001b[?25hdone\n",
            "  Created wheel for kaggle: filename=kaggle-1.5.6-py3-none-any.whl size=72859 sha256=14b7c4ce8532890185fa2ffb10f18935e63b820d8ebd24d749584f92404793b7\n",
            "  Stored in directory: /root/.cache/pip/wheels/01/3e/ff/77407ebac3ef71a79b9166a8382aecf88415a0bcbe3c095a01\n",
            "Successfully built kaggle\n",
            "Installing collected packages: kaggle\n",
            "Successfully installed kaggle-1.5.6\n"
          ],
          "name": "stdout"
        }
      ]
    },
    {
      "cell_type": "code",
      "metadata": {
        "id": "XrWkPOnd1Diq",
        "colab_type": "code",
        "outputId": "c6b41186-b590-445e-fa12-f47514d3fdc2",
        "colab": {
          "base_uri": "https://localhost:8080/",
          "height": 34
        }
      },
      "source": [
        "!kaggle -v"
      ],
      "execution_count": 0,
      "outputs": [
        {
          "output_type": "stream",
          "text": [
            "Kaggle API 1.5.6\n"
          ],
          "name": "stdout"
        }
      ]
    },
    {
      "cell_type": "code",
      "metadata": {
        "id": "_BH6K8TM1DlK",
        "colab_type": "code",
        "outputId": "c8ff217a-114c-47cb-912c-33cf676acba2",
        "colab": {
          "base_uri": "https://localhost:8080/",
          "height": 34
        }
      },
      "source": [
        "!kaggle competitions download -c covid19-global-forecasting-week-3"
      ],
      "execution_count": 0,
      "outputs": [
        {
          "output_type": "stream",
          "text": [
            "403 - Forbidden\n"
          ],
          "name": "stdout"
        }
      ]
    },
    {
      "cell_type": "code",
      "metadata": {
        "id": "2D-N_-Z41Doi",
        "colab_type": "code",
        "outputId": "6f3dc22e-895c-4d4d-d76c-8eec96b6f611",
        "colab": {
          "base_uri": "https://localhost:8080/",
          "height": 67
        }
      },
      "source": [
        "!kaggle datasets download -d allen-institute-for-ai/CORD-19-research-challenge"
      ],
      "execution_count": 0,
      "outputs": [
        {
          "output_type": "stream",
          "text": [
            "Downloading CORD-19-research-challenge.zip to /content\n",
            " 98% 713M/729M [00:14<00:00, 44.4MB/s]\n",
            "100% 729M/729M [00:14<00:00, 52.6MB/s]\n"
          ],
          "name": "stdout"
        }
      ]
    },
    {
      "cell_type": "code",
      "metadata": {
        "id": "7iKU_ZjPWC4K",
        "colab_type": "code",
        "outputId": "b2b40201-a633-4f74-d8f9-690075c9c8b6",
        "colab": {
          "base_uri": "https://localhost:8080/",
          "height": 1000
        }
      },
      "source": [
        "!pip install tensorflow-gpu"
      ],
      "execution_count": 0,
      "outputs": [
        {
          "output_type": "stream",
          "text": [
            "Collecting tensorflow-gpu\n",
            "\u001b[?25l  Downloading https://files.pythonhosted.org/packages/0a/93/c7bca39b23aae45cd2e85ad3871c81eccc63b9c5276e926511e2e5b0879d/tensorflow_gpu-2.1.0-cp36-cp36m-manylinux2010_x86_64.whl (421.8MB)\n",
            "\u001b[K     |████████████████████████████████| 421.8MB 35kB/s \n",
            "\u001b[?25hRequirement already satisfied: protobuf>=3.8.0 in /usr/local/lib/python3.6/dist-packages (from tensorflow-gpu) (3.10.0)\n",
            "Requirement already satisfied: grpcio>=1.8.6 in /usr/local/lib/python3.6/dist-packages (from tensorflow-gpu) (1.27.2)\n",
            "Requirement already satisfied: wheel>=0.26; python_version >= \"3\" in /usr/local/lib/python3.6/dist-packages (from tensorflow-gpu) (0.34.2)\n",
            "Requirement already satisfied: keras-applications>=1.0.8 in /usr/local/lib/python3.6/dist-packages (from tensorflow-gpu) (1.0.8)\n",
            "Requirement already satisfied: six>=1.12.0 in /usr/local/lib/python3.6/dist-packages (from tensorflow-gpu) (1.12.0)\n",
            "Requirement already satisfied: numpy<2.0,>=1.16.0 in /usr/local/lib/python3.6/dist-packages (from tensorflow-gpu) (1.18.2)\n",
            "Collecting tensorboard<2.2.0,>=2.1.0\n",
            "\u001b[?25l  Downloading https://files.pythonhosted.org/packages/d9/41/bbf49b61370e4f4d245d4c6051dfb6db80cec672605c91b1652ac8cc3d38/tensorboard-2.1.1-py3-none-any.whl (3.8MB)\n",
            "\u001b[K     |████████████████████████████████| 3.9MB 48.3MB/s \n",
            "\u001b[?25hCollecting tensorflow-estimator<2.2.0,>=2.1.0rc0\n",
            "\u001b[?25l  Downloading https://files.pythonhosted.org/packages/18/90/b77c328a1304437ab1310b463e533fa7689f4bfc41549593056d812fab8e/tensorflow_estimator-2.1.0-py2.py3-none-any.whl (448kB)\n",
            "\u001b[K     |████████████████████████████████| 450kB 45.1MB/s \n",
            "\u001b[?25hRequirement already satisfied: scipy==1.4.1; python_version >= \"3\" in /usr/local/lib/python3.6/dist-packages (from tensorflow-gpu) (1.4.1)\n",
            "Requirement already satisfied: keras-preprocessing>=1.1.0 in /usr/local/lib/python3.6/dist-packages (from tensorflow-gpu) (1.1.0)\n",
            "Requirement already satisfied: opt-einsum>=2.3.2 in /usr/local/lib/python3.6/dist-packages (from tensorflow-gpu) (3.2.0)\n",
            "Requirement already satisfied: wrapt>=1.11.1 in /usr/local/lib/python3.6/dist-packages (from tensorflow-gpu) (1.12.1)\n",
            "Requirement already satisfied: astor>=0.6.0 in /usr/local/lib/python3.6/dist-packages (from tensorflow-gpu) (0.8.1)\n",
            "Requirement already satisfied: termcolor>=1.1.0 in /usr/local/lib/python3.6/dist-packages (from tensorflow-gpu) (1.1.0)\n",
            "Requirement already satisfied: absl-py>=0.7.0 in /usr/local/lib/python3.6/dist-packages (from tensorflow-gpu) (0.9.0)\n",
            "Collecting gast==0.2.2\n",
            "  Downloading https://files.pythonhosted.org/packages/4e/35/11749bf99b2d4e3cceb4d55ca22590b0d7c2c62b9de38ac4a4a7f4687421/gast-0.2.2.tar.gz\n",
            "Requirement already satisfied: google-pasta>=0.1.6 in /usr/local/lib/python3.6/dist-packages (from tensorflow-gpu) (0.2.0)\n",
            "Requirement already satisfied: setuptools in /usr/local/lib/python3.6/dist-packages (from protobuf>=3.8.0->tensorflow-gpu) (46.0.0)\n",
            "Requirement already satisfied: h5py in /usr/local/lib/python3.6/dist-packages (from keras-applications>=1.0.8->tensorflow-gpu) (2.10.0)\n",
            "Requirement already satisfied: markdown>=2.6.8 in /usr/local/lib/python3.6/dist-packages (from tensorboard<2.2.0,>=2.1.0->tensorflow-gpu) (3.2.1)\n",
            "Requirement already satisfied: requests<3,>=2.21.0 in /usr/local/lib/python3.6/dist-packages (from tensorboard<2.2.0,>=2.1.0->tensorflow-gpu) (2.21.0)\n",
            "Requirement already satisfied: google-auth<2,>=1.6.3 in /usr/local/lib/python3.6/dist-packages (from tensorboard<2.2.0,>=2.1.0->tensorflow-gpu) (1.7.2)\n",
            "Requirement already satisfied: google-auth-oauthlib<0.5,>=0.4.1 in /usr/local/lib/python3.6/dist-packages (from tensorboard<2.2.0,>=2.1.0->tensorflow-gpu) (0.4.1)\n",
            "Requirement already satisfied: werkzeug>=0.11.15 in /usr/local/lib/python3.6/dist-packages (from tensorboard<2.2.0,>=2.1.0->tensorflow-gpu) (1.0.0)\n",
            "Requirement already satisfied: certifi>=2017.4.17 in /usr/local/lib/python3.6/dist-packages (from requests<3,>=2.21.0->tensorboard<2.2.0,>=2.1.0->tensorflow-gpu) (2019.11.28)\n",
            "Requirement already satisfied: urllib3<1.25,>=1.21.1 in /usr/local/lib/python3.6/dist-packages (from requests<3,>=2.21.0->tensorboard<2.2.0,>=2.1.0->tensorflow-gpu) (1.24.3)\n",
            "Requirement already satisfied: idna<2.9,>=2.5 in /usr/local/lib/python3.6/dist-packages (from requests<3,>=2.21.0->tensorboard<2.2.0,>=2.1.0->tensorflow-gpu) (2.8)\n",
            "Requirement already satisfied: chardet<3.1.0,>=3.0.2 in /usr/local/lib/python3.6/dist-packages (from requests<3,>=2.21.0->tensorboard<2.2.0,>=2.1.0->tensorflow-gpu) (3.0.4)\n",
            "Requirement already satisfied: pyasn1-modules>=0.2.1 in /usr/local/lib/python3.6/dist-packages (from google-auth<2,>=1.6.3->tensorboard<2.2.0,>=2.1.0->tensorflow-gpu) (0.2.8)\n",
            "Requirement already satisfied: cachetools<3.2,>=2.0.0 in /usr/local/lib/python3.6/dist-packages (from google-auth<2,>=1.6.3->tensorboard<2.2.0,>=2.1.0->tensorflow-gpu) (3.1.1)\n",
            "Requirement already satisfied: rsa<4.1,>=3.1.4 in /usr/local/lib/python3.6/dist-packages (from google-auth<2,>=1.6.3->tensorboard<2.2.0,>=2.1.0->tensorflow-gpu) (4.0)\n",
            "Requirement already satisfied: requests-oauthlib>=0.7.0 in /usr/local/lib/python3.6/dist-packages (from google-auth-oauthlib<0.5,>=0.4.1->tensorboard<2.2.0,>=2.1.0->tensorflow-gpu) (1.3.0)\n",
            "Requirement already satisfied: pyasn1<0.5.0,>=0.4.6 in /usr/local/lib/python3.6/dist-packages (from pyasn1-modules>=0.2.1->google-auth<2,>=1.6.3->tensorboard<2.2.0,>=2.1.0->tensorflow-gpu) (0.4.8)\n",
            "Requirement already satisfied: oauthlib>=3.0.0 in /usr/local/lib/python3.6/dist-packages (from requests-oauthlib>=0.7.0->google-auth-oauthlib<0.5,>=0.4.1->tensorboard<2.2.0,>=2.1.0->tensorflow-gpu) (3.1.0)\n",
            "Building wheels for collected packages: gast\n",
            "  Building wheel for gast (setup.py) ... \u001b[?25l\u001b[?25hdone\n",
            "  Created wheel for gast: filename=gast-0.2.2-cp36-none-any.whl size=7540 sha256=0f8c47a2ddc53fbe27574d97c0571b287dc7eb2134924e76b7b85dff73d9cb2b\n",
            "  Stored in directory: /root/.cache/pip/wheels/5c/2e/7e/a1d4d4fcebe6c381f378ce7743a3ced3699feb89bcfbdadadd\n",
            "Successfully built gast\n",
            "\u001b[31mERROR: tensorflow 2.2.0rc2 has requirement gast==0.3.3, but you'll have gast 0.2.2 which is incompatible.\u001b[0m\n",
            "\u001b[31mERROR: tensorflow 2.2.0rc2 has requirement tensorboard<2.3.0,>=2.2.0, but you'll have tensorboard 2.1.1 which is incompatible.\u001b[0m\n",
            "\u001b[31mERROR: tensorflow 2.2.0rc2 has requirement tensorflow-estimator<2.3.0,>=2.2.0rc0, but you'll have tensorflow-estimator 2.1.0 which is incompatible.\u001b[0m\n",
            "Installing collected packages: tensorboard, tensorflow-estimator, gast, tensorflow-gpu\n",
            "  Found existing installation: tensorboard 2.2.0\n",
            "    Uninstalling tensorboard-2.2.0:\n",
            "      Successfully uninstalled tensorboard-2.2.0\n",
            "  Found existing installation: tensorflow-estimator 2.2.0rc0\n",
            "    Uninstalling tensorflow-estimator-2.2.0rc0:\n",
            "      Successfully uninstalled tensorflow-estimator-2.2.0rc0\n",
            "  Found existing installation: gast 0.3.3\n",
            "    Uninstalling gast-0.3.3:\n",
            "      Successfully uninstalled gast-0.3.3\n",
            "Successfully installed gast-0.2.2 tensorboard-2.1.1 tensorflow-estimator-2.1.0 tensorflow-gpu-2.1.0\n"
          ],
          "name": "stdout"
        }
      ]
    },
    {
      "cell_type": "code",
      "metadata": {
        "id": "4czHNQX2WEQp",
        "colab_type": "code",
        "colab": {}
      },
      "source": [
        "import tensorflow as tf\n",
        "from tensorflow.keras import Sequential\n",
        "from tensorflow.keras.layers import Flatten,Dense,Conv2D,MaxPool2D,ZeroPadding2D,Dropout,BatchNormalization\n",
        "from tensorflow.keras.preprocessing.image import ImageDataGenerator\n",
        "from tensorflow.keras.optimizers import SGD"
      ],
      "execution_count": 0,
      "outputs": []
    },
    {
      "cell_type": "code",
      "metadata": {
        "id": "0W2sXyXrWEW_",
        "colab_type": "code",
        "colab": {}
      },
      "source": [
        ""
      ],
      "execution_count": 0,
      "outputs": []
    },
    {
      "cell_type": "code",
      "metadata": {
        "id": "vClIxD5yWEZx",
        "colab_type": "code",
        "colab": {}
      },
      "source": [
        ""
      ],
      "execution_count": 0,
      "outputs": []
    },
    {
      "cell_type": "code",
      "metadata": {
        "id": "E5H69ir4WEcY",
        "colab_type": "code",
        "colab": {}
      },
      "source": [
        ""
      ],
      "execution_count": 0,
      "outputs": []
    },
    {
      "cell_type": "code",
      "metadata": {
        "id": "xyQ0uPtTWEfq",
        "colab_type": "code",
        "colab": {}
      },
      "source": [
        ""
      ],
      "execution_count": 0,
      "outputs": []
    }
  ]
}